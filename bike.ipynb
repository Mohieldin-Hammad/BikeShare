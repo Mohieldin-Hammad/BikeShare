{
 "cells": [
  {
   "cell_type": "code",
   "execution_count": 27,
   "id": "980e9848",
   "metadata": {},
   "outputs": [],
   "source": [
    "import pandas as pd\n",
    "import numpy as np\n",
    "import time"
   ]
  },
  {
   "cell_type": "code",
   "execution_count": 28,
   "id": "6099ade7",
   "metadata": {},
   "outputs": [],
   "source": [
    "df = pd.read_csv(\"chicago.csv\")"
   ]
  },
  {
   "cell_type": "code",
   "execution_count": 29,
   "id": "61064142",
   "metadata": {},
   "outputs": [],
   "source": [
    "df['Start Time'] = pd.to_datetime(df[\"Start Time\"])"
   ]
  },
  {
   "cell_type": "code",
   "execution_count": 30,
   "id": "4088f9c5",
   "metadata": {},
   "outputs": [
    {
     "data": {
      "text/html": [
       "<div>\n",
       "<style scoped>\n",
       "    .dataframe tbody tr th:only-of-type {\n",
       "        vertical-align: middle;\n",
       "    }\n",
       "\n",
       "    .dataframe tbody tr th {\n",
       "        vertical-align: top;\n",
       "    }\n",
       "\n",
       "    .dataframe thead th {\n",
       "        text-align: right;\n",
       "    }\n",
       "</style>\n",
       "<table border=\"1\" class=\"dataframe\">\n",
       "  <thead>\n",
       "    <tr style=\"text-align: right;\">\n",
       "      <th></th>\n",
       "      <th>Unnamed: 0</th>\n",
       "      <th>Start Time</th>\n",
       "      <th>End Time</th>\n",
       "      <th>Trip Duration</th>\n",
       "      <th>Start Station</th>\n",
       "      <th>End Station</th>\n",
       "      <th>User Type</th>\n",
       "      <th>Gender</th>\n",
       "      <th>Birth Year</th>\n",
       "      <th>month</th>\n",
       "    </tr>\n",
       "  </thead>\n",
       "  <tbody>\n",
       "    <tr>\n",
       "      <th>0</th>\n",
       "      <td>1423854</td>\n",
       "      <td>2017-06-23 15:09:32</td>\n",
       "      <td>2017-06-23 15:14:53</td>\n",
       "      <td>321</td>\n",
       "      <td>Wood St &amp; Hubbard St</td>\n",
       "      <td>Damen Ave &amp; Chicago Ave</td>\n",
       "      <td>Subscriber</td>\n",
       "      <td>Male</td>\n",
       "      <td>1992.0</td>\n",
       "      <td>6</td>\n",
       "    </tr>\n",
       "    <tr>\n",
       "      <th>1</th>\n",
       "      <td>955915</td>\n",
       "      <td>2017-05-25 18:19:03</td>\n",
       "      <td>2017-05-25 18:45:53</td>\n",
       "      <td>1610</td>\n",
       "      <td>Theater on the Lake</td>\n",
       "      <td>Sheffield Ave &amp; Waveland Ave</td>\n",
       "      <td>Subscriber</td>\n",
       "      <td>Female</td>\n",
       "      <td>1992.0</td>\n",
       "      <td>5</td>\n",
       "    </tr>\n",
       "    <tr>\n",
       "      <th>2</th>\n",
       "      <td>9031</td>\n",
       "      <td>2017-01-04 08:27:49</td>\n",
       "      <td>2017-01-04 08:34:45</td>\n",
       "      <td>416</td>\n",
       "      <td>May St &amp; Taylor St</td>\n",
       "      <td>Wood St &amp; Taylor St</td>\n",
       "      <td>Subscriber</td>\n",
       "      <td>Male</td>\n",
       "      <td>1981.0</td>\n",
       "      <td>1</td>\n",
       "    </tr>\n",
       "    <tr>\n",
       "      <th>3</th>\n",
       "      <td>304487</td>\n",
       "      <td>2017-03-06 13:49:38</td>\n",
       "      <td>2017-03-06 13:55:28</td>\n",
       "      <td>350</td>\n",
       "      <td>Christiana Ave &amp; Lawrence Ave</td>\n",
       "      <td>St. Louis Ave &amp; Balmoral Ave</td>\n",
       "      <td>Subscriber</td>\n",
       "      <td>Male</td>\n",
       "      <td>1986.0</td>\n",
       "      <td>3</td>\n",
       "    </tr>\n",
       "    <tr>\n",
       "      <th>4</th>\n",
       "      <td>45207</td>\n",
       "      <td>2017-01-17 14:53:07</td>\n",
       "      <td>2017-01-17 15:02:01</td>\n",
       "      <td>534</td>\n",
       "      <td>Clark St &amp; Randolph St</td>\n",
       "      <td>Desplaines St &amp; Jackson Blvd</td>\n",
       "      <td>Subscriber</td>\n",
       "      <td>Male</td>\n",
       "      <td>1975.0</td>\n",
       "      <td>1</td>\n",
       "    </tr>\n",
       "  </tbody>\n",
       "</table>\n",
       "</div>"
      ],
      "text/plain": [
       "   Unnamed: 0          Start Time             End Time  Trip Duration  \\\n",
       "0     1423854 2017-06-23 15:09:32  2017-06-23 15:14:53            321   \n",
       "1      955915 2017-05-25 18:19:03  2017-05-25 18:45:53           1610   \n",
       "2        9031 2017-01-04 08:27:49  2017-01-04 08:34:45            416   \n",
       "3      304487 2017-03-06 13:49:38  2017-03-06 13:55:28            350   \n",
       "4       45207 2017-01-17 14:53:07  2017-01-17 15:02:01            534   \n",
       "\n",
       "                   Start Station                   End Station   User Type  \\\n",
       "0           Wood St & Hubbard St       Damen Ave & Chicago Ave  Subscriber   \n",
       "1            Theater on the Lake  Sheffield Ave & Waveland Ave  Subscriber   \n",
       "2             May St & Taylor St           Wood St & Taylor St  Subscriber   \n",
       "3  Christiana Ave & Lawrence Ave  St. Louis Ave & Balmoral Ave  Subscriber   \n",
       "4         Clark St & Randolph St  Desplaines St & Jackson Blvd  Subscriber   \n",
       "\n",
       "   Gender  Birth Year  month  \n",
       "0    Male      1992.0      6  \n",
       "1  Female      1992.0      5  \n",
       "2    Male      1981.0      1  \n",
       "3    Male      1986.0      3  \n",
       "4    Male      1975.0      1  "
      ]
     },
     "execution_count": 30,
     "metadata": {},
     "output_type": "execute_result"
    }
   ],
   "source": [
    "df['month'] = df[\"Start Time\"].dt.month\n",
    "df.head()"
   ]
  },
  {
   "cell_type": "code",
   "execution_count": 31,
   "id": "e59ded7d",
   "metadata": {},
   "outputs": [
    {
     "data": {
      "text/html": [
       "<div>\n",
       "<style scoped>\n",
       "    .dataframe tbody tr th:only-of-type {\n",
       "        vertical-align: middle;\n",
       "    }\n",
       "\n",
       "    .dataframe tbody tr th {\n",
       "        vertical-align: top;\n",
       "    }\n",
       "\n",
       "    .dataframe thead th {\n",
       "        text-align: right;\n",
       "    }\n",
       "</style>\n",
       "<table border=\"1\" class=\"dataframe\">\n",
       "  <thead>\n",
       "    <tr style=\"text-align: right;\">\n",
       "      <th></th>\n",
       "      <th>Unnamed: 0</th>\n",
       "      <th>Start Time</th>\n",
       "      <th>End Time</th>\n",
       "      <th>Trip Duration</th>\n",
       "      <th>Start Station</th>\n",
       "      <th>End Station</th>\n",
       "      <th>User Type</th>\n",
       "      <th>Gender</th>\n",
       "      <th>Birth Year</th>\n",
       "      <th>month</th>\n",
       "      <th>day_of_week</th>\n",
       "    </tr>\n",
       "  </thead>\n",
       "  <tbody>\n",
       "    <tr>\n",
       "      <th>0</th>\n",
       "      <td>1423854</td>\n",
       "      <td>2017-06-23 15:09:32</td>\n",
       "      <td>2017-06-23 15:14:53</td>\n",
       "      <td>321</td>\n",
       "      <td>Wood St &amp; Hubbard St</td>\n",
       "      <td>Damen Ave &amp; Chicago Ave</td>\n",
       "      <td>Subscriber</td>\n",
       "      <td>Male</td>\n",
       "      <td>1992.0</td>\n",
       "      <td>6</td>\n",
       "      <td>Friday</td>\n",
       "    </tr>\n",
       "    <tr>\n",
       "      <th>1</th>\n",
       "      <td>955915</td>\n",
       "      <td>2017-05-25 18:19:03</td>\n",
       "      <td>2017-05-25 18:45:53</td>\n",
       "      <td>1610</td>\n",
       "      <td>Theater on the Lake</td>\n",
       "      <td>Sheffield Ave &amp; Waveland Ave</td>\n",
       "      <td>Subscriber</td>\n",
       "      <td>Female</td>\n",
       "      <td>1992.0</td>\n",
       "      <td>5</td>\n",
       "      <td>Thursday</td>\n",
       "    </tr>\n",
       "    <tr>\n",
       "      <th>2</th>\n",
       "      <td>9031</td>\n",
       "      <td>2017-01-04 08:27:49</td>\n",
       "      <td>2017-01-04 08:34:45</td>\n",
       "      <td>416</td>\n",
       "      <td>May St &amp; Taylor St</td>\n",
       "      <td>Wood St &amp; Taylor St</td>\n",
       "      <td>Subscriber</td>\n",
       "      <td>Male</td>\n",
       "      <td>1981.0</td>\n",
       "      <td>1</td>\n",
       "      <td>Wednesday</td>\n",
       "    </tr>\n",
       "    <tr>\n",
       "      <th>3</th>\n",
       "      <td>304487</td>\n",
       "      <td>2017-03-06 13:49:38</td>\n",
       "      <td>2017-03-06 13:55:28</td>\n",
       "      <td>350</td>\n",
       "      <td>Christiana Ave &amp; Lawrence Ave</td>\n",
       "      <td>St. Louis Ave &amp; Balmoral Ave</td>\n",
       "      <td>Subscriber</td>\n",
       "      <td>Male</td>\n",
       "      <td>1986.0</td>\n",
       "      <td>3</td>\n",
       "      <td>Monday</td>\n",
       "    </tr>\n",
       "    <tr>\n",
       "      <th>4</th>\n",
       "      <td>45207</td>\n",
       "      <td>2017-01-17 14:53:07</td>\n",
       "      <td>2017-01-17 15:02:01</td>\n",
       "      <td>534</td>\n",
       "      <td>Clark St &amp; Randolph St</td>\n",
       "      <td>Desplaines St &amp; Jackson Blvd</td>\n",
       "      <td>Subscriber</td>\n",
       "      <td>Male</td>\n",
       "      <td>1975.0</td>\n",
       "      <td>1</td>\n",
       "      <td>Tuesday</td>\n",
       "    </tr>\n",
       "  </tbody>\n",
       "</table>\n",
       "</div>"
      ],
      "text/plain": [
       "   Unnamed: 0          Start Time             End Time  Trip Duration  \\\n",
       "0     1423854 2017-06-23 15:09:32  2017-06-23 15:14:53            321   \n",
       "1      955915 2017-05-25 18:19:03  2017-05-25 18:45:53           1610   \n",
       "2        9031 2017-01-04 08:27:49  2017-01-04 08:34:45            416   \n",
       "3      304487 2017-03-06 13:49:38  2017-03-06 13:55:28            350   \n",
       "4       45207 2017-01-17 14:53:07  2017-01-17 15:02:01            534   \n",
       "\n",
       "                   Start Station                   End Station   User Type  \\\n",
       "0           Wood St & Hubbard St       Damen Ave & Chicago Ave  Subscriber   \n",
       "1            Theater on the Lake  Sheffield Ave & Waveland Ave  Subscriber   \n",
       "2             May St & Taylor St           Wood St & Taylor St  Subscriber   \n",
       "3  Christiana Ave & Lawrence Ave  St. Louis Ave & Balmoral Ave  Subscriber   \n",
       "4         Clark St & Randolph St  Desplaines St & Jackson Blvd  Subscriber   \n",
       "\n",
       "   Gender  Birth Year  month day_of_week  \n",
       "0    Male      1992.0      6      Friday  \n",
       "1  Female      1992.0      5    Thursday  \n",
       "2    Male      1981.0      1   Wednesday  \n",
       "3    Male      1986.0      3      Monday  \n",
       "4    Male      1975.0      1     Tuesday  "
      ]
     },
     "execution_count": 31,
     "metadata": {},
     "output_type": "execute_result"
    }
   ],
   "source": [
    "df[\"day_of_week\"] = df[\"Start Time\"].dt.day_name()\n",
    "df.head()"
   ]
  },
  {
   "cell_type": "code",
   "execution_count": 32,
   "id": "dd00bc8c",
   "metadata": {},
   "outputs": [],
   "source": [
    "# filter by month if applicable\n",
    "month = \"january\"\n",
    "\n",
    "if month != 'all':\n",
    "    # use the index of the months list to get the corresponding int\n",
    "    months = ['january', 'february', 'march', 'april', 'may', 'june']\n",
    "    month = months.index(month) + 1\n",
    "\n",
    "    # filter by month to create the new dataframe\n",
    "    df = df[df[\"month\"] == month] \n"
   ]
  },
  {
   "cell_type": "code",
   "execution_count": 33,
   "id": "4b2d73a5",
   "metadata": {},
   "outputs": [],
   "source": [
    "day = \"all\"\n",
    "# filter by day of week if applicable\n",
    "if day != 'all':\n",
    "    # filter by day of week to create the new dataframe\n",
    "    df = df[df[\"day_of_week\"] == day.title()]\n"
   ]
  },
  {
   "cell_type": "code",
   "execution_count": 34,
   "id": "d91e6135",
   "metadata": {},
   "outputs": [
    {
     "data": {
      "text/html": [
       "<div>\n",
       "<style scoped>\n",
       "    .dataframe tbody tr th:only-of-type {\n",
       "        vertical-align: middle;\n",
       "    }\n",
       "\n",
       "    .dataframe tbody tr th {\n",
       "        vertical-align: top;\n",
       "    }\n",
       "\n",
       "    .dataframe thead th {\n",
       "        text-align: right;\n",
       "    }\n",
       "</style>\n",
       "<table border=\"1\" class=\"dataframe\">\n",
       "  <thead>\n",
       "    <tr style=\"text-align: right;\">\n",
       "      <th></th>\n",
       "      <th>Unnamed: 0</th>\n",
       "      <th>Start Time</th>\n",
       "      <th>End Time</th>\n",
       "      <th>Trip Duration</th>\n",
       "      <th>Start Station</th>\n",
       "      <th>End Station</th>\n",
       "      <th>User Type</th>\n",
       "      <th>Gender</th>\n",
       "      <th>Birth Year</th>\n",
       "      <th>month</th>\n",
       "      <th>day_of_week</th>\n",
       "    </tr>\n",
       "  </thead>\n",
       "  <tbody>\n",
       "    <tr>\n",
       "      <th>2</th>\n",
       "      <td>9031</td>\n",
       "      <td>2017-01-04 08:27:49</td>\n",
       "      <td>2017-01-04 08:34:45</td>\n",
       "      <td>416</td>\n",
       "      <td>May St &amp; Taylor St</td>\n",
       "      <td>Wood St &amp; Taylor St</td>\n",
       "      <td>Subscriber</td>\n",
       "      <td>Male</td>\n",
       "      <td>1981.0</td>\n",
       "      <td>1</td>\n",
       "      <td>Wednesday</td>\n",
       "    </tr>\n",
       "    <tr>\n",
       "      <th>4</th>\n",
       "      <td>45207</td>\n",
       "      <td>2017-01-17 14:53:07</td>\n",
       "      <td>2017-01-17 15:02:01</td>\n",
       "      <td>534</td>\n",
       "      <td>Clark St &amp; Randolph St</td>\n",
       "      <td>Desplaines St &amp; Jackson Blvd</td>\n",
       "      <td>Subscriber</td>\n",
       "      <td>Male</td>\n",
       "      <td>1975.0</td>\n",
       "      <td>1</td>\n",
       "      <td>Tuesday</td>\n",
       "    </tr>\n",
       "    <tr>\n",
       "      <th>7</th>\n",
       "      <td>65924</td>\n",
       "      <td>2017-01-21 14:28:38</td>\n",
       "      <td>2017-01-21 14:40:41</td>\n",
       "      <td>723</td>\n",
       "      <td>Larrabee St &amp; Kingsbury St</td>\n",
       "      <td>Larrabee St &amp; Armitage Ave</td>\n",
       "      <td>Customer</td>\n",
       "      <td>NaN</td>\n",
       "      <td>NaN</td>\n",
       "      <td>1</td>\n",
       "      <td>Saturday</td>\n",
       "    </tr>\n",
       "    <tr>\n",
       "      <th>11</th>\n",
       "      <td>71678</td>\n",
       "      <td>2017-01-22 15:15:45</td>\n",
       "      <td>2017-01-22 15:31:02</td>\n",
       "      <td>917</td>\n",
       "      <td>Southport Ave &amp; Wellington Ave</td>\n",
       "      <td>Clark St &amp; Schiller St</td>\n",
       "      <td>Subscriber</td>\n",
       "      <td>Male</td>\n",
       "      <td>1964.0</td>\n",
       "      <td>1</td>\n",
       "      <td>Sunday</td>\n",
       "    </tr>\n",
       "    <tr>\n",
       "      <th>12</th>\n",
       "      <td>19061</td>\n",
       "      <td>2017-01-08 16:03:00</td>\n",
       "      <td>2017-01-08 16:07:37</td>\n",
       "      <td>277</td>\n",
       "      <td>Green St &amp; Madison St</td>\n",
       "      <td>Ada St &amp; Washington Blvd</td>\n",
       "      <td>Subscriber</td>\n",
       "      <td>Male</td>\n",
       "      <td>1961.0</td>\n",
       "      <td>1</td>\n",
       "      <td>Sunday</td>\n",
       "    </tr>\n",
       "  </tbody>\n",
       "</table>\n",
       "</div>"
      ],
      "text/plain": [
       "    Unnamed: 0          Start Time             End Time  Trip Duration  \\\n",
       "2         9031 2017-01-04 08:27:49  2017-01-04 08:34:45            416   \n",
       "4        45207 2017-01-17 14:53:07  2017-01-17 15:02:01            534   \n",
       "7        65924 2017-01-21 14:28:38  2017-01-21 14:40:41            723   \n",
       "11       71678 2017-01-22 15:15:45  2017-01-22 15:31:02            917   \n",
       "12       19061 2017-01-08 16:03:00  2017-01-08 16:07:37            277   \n",
       "\n",
       "                     Start Station                   End Station   User Type  \\\n",
       "2               May St & Taylor St           Wood St & Taylor St  Subscriber   \n",
       "4           Clark St & Randolph St  Desplaines St & Jackson Blvd  Subscriber   \n",
       "7       Larrabee St & Kingsbury St    Larrabee St & Armitage Ave    Customer   \n",
       "11  Southport Ave & Wellington Ave        Clark St & Schiller St  Subscriber   \n",
       "12           Green St & Madison St      Ada St & Washington Blvd  Subscriber   \n",
       "\n",
       "   Gender  Birth Year  month day_of_week  \n",
       "2    Male      1981.0      1   Wednesday  \n",
       "4    Male      1975.0      1     Tuesday  \n",
       "7     NaN         NaN      1    Saturday  \n",
       "11   Male      1964.0      1      Sunday  \n",
       "12   Male      1961.0      1      Sunday  "
      ]
     },
     "execution_count": 34,
     "metadata": {},
     "output_type": "execute_result"
    }
   ],
   "source": [
    "df.head()"
   ]
  },
  {
   "cell_type": "code",
   "execution_count": 35,
   "id": "45fcebb8",
   "metadata": {},
   "outputs": [
    {
     "name": "stdout",
     "output_type": "stream",
     "text": [
      "\n",
      "Calculating The Most Popular Stations and Trip...\n",
      "\n",
      "Most commonly used start station: Clinton St & Washington Blvd\n",
      "Most commonly used end station: Clinton St & Washington Blvd\n",
      "MFC for both the start and the end: 29\n",
      "\n",
      "This took 0.022978544235229492 seconds.\n",
      "----------------------------------------\n"
     ]
    }
   ],
   "source": [
    "print('\\nCalculating The Most Popular Stations and Trip...\\n')\n",
    "start_time = time.time()\n",
    "\n",
    "# display most commonly used start station\n",
    "start = df[\"Start Station\"].mode()[0]\n",
    "print(\"Most commonly used start station:\", start)\n",
    "\n",
    "# make a dataframe for only the most commonly used start station to make it easy for \n",
    "# finding the end station\n",
    "s_frame = df[df[\"Start Station\"] == start]\n",
    "\n",
    "# display most commonly used end station\n",
    "last = df[\"End Station\"].mode()[0]\n",
    "print(\"Most commonly used end station:\", last)\n",
    "\n",
    "# display most frequent combination of start station and end station trip\n",
    "comb = df[[\"Start Station\", \"End Station\"]].value_counts()[0]\n",
    "print(\"MFC for both the start and the end:\", comb)\n",
    "\n",
    "\n",
    "print(\"\\nThis took %s seconds.\" % (time.time() - start_time))\n",
    "print('-'*40)"
   ]
  },
  {
   "cell_type": "code",
   "execution_count": 36,
   "id": "027073ef",
   "metadata": {},
   "outputs": [
    {
     "name": "stdout",
     "output_type": "stream",
     "text": [
      "\n",
      "Calculating The Most Frequent Times of Travel...\n",
      "\n",
      "Most common month: 1\n",
      "Most common day of week: Tuesday\n",
      "Most common start hour: 17\n",
      "\n",
      "This took 0.009984731674194336 seconds.\n",
      "----------------------------------------\n"
     ]
    }
   ],
   "source": [
    "\"\"\"Displays statistics on the most frequent times of travel.\"\"\"\n",
    "cond = None\n",
    "print('\\nCalculating The Most Frequent Times of Travel...\\n')\n",
    "start_time = time.time()\n",
    "if cond != \"both\":\n",
    "    # display the most common month\n",
    "    if (cond == None) or (cond == \"month\"):\n",
    "        com_month = df[\"month\"].mode()[0]\n",
    "        print(\"Most common month:\", com_month)\n",
    "    \n",
    "    # display the most common day of week\n",
    "    if (cond == None) or (cond == \"day\"):\n",
    "        com_day = df[\"day_of_week\"].mode()[0]\n",
    "        print(\"Most common day of week:\", com_day)\n",
    "    \n",
    "# display the most common start hour\n",
    "com_hour = df[\"Start Time\"].dt.hour.mode()[0]\n",
    "print(\"Most common start hour:\", com_hour)\n",
    "\n",
    "print(\"\\nThis took %s seconds.\" % (time.time() - start_time))\n",
    "print('-'*40)\n"
   ]
  },
  {
   "cell_type": "code",
   "execution_count": 37,
   "id": "7ea19c1a",
   "metadata": {},
   "outputs": [
    {
     "data": {
      "text/plain": [
       "17"
      ]
     },
     "execution_count": 37,
     "metadata": {},
     "output_type": "execute_result"
    }
   ],
   "source": [
    "df[\"Start Time\"].dt.hour.mode()[0]"
   ]
  },
  {
   "cell_type": "code",
   "execution_count": 38,
   "id": "07ec277f",
   "metadata": {},
   "outputs": [
    {
     "name": "stdout",
     "output_type": "stream",
     "text": [
      "\n",
      "Calculating Trip Duration...\n",
      "\n",
      "Total travel time: 14826150\n",
      "The average duration: 679.8179650602962\n",
      "\n",
      "This took 0.001001596450805664 seconds.\n",
      "----------------------------------------\n"
     ]
    }
   ],
   "source": [
    "\"\"\"Displays statistics on the total and average trip duration.\"\"\"\n",
    "\n",
    "print('\\nCalculating Trip Duration...\\n')\n",
    "start_time = time.time()\n",
    "\n",
    "# display total travel time\n",
    "t_time = df[\"Trip Duration\"].sum()\n",
    "print(\"Total travel time:\", t_time)\n",
    "\n",
    "# display mean travel time\n",
    "avg_time = df[\"Trip Duration\"].mean()\n",
    "print(\"The average duration:\", avg_time)\n",
    "\n",
    "print(\"\\nThis took %s seconds.\" % (time.time() - start_time))\n",
    "print('-'*40)"
   ]
  },
  {
   "cell_type": "code",
   "execution_count": 39,
   "id": "c97dc69d",
   "metadata": {},
   "outputs": [
    {
     "data": {
      "text/plain": [
       "679.8179650602962"
      ]
     },
     "execution_count": 39,
     "metadata": {},
     "output_type": "execute_result"
    }
   ],
   "source": [
    "df[\"Trip Duration\"].mean()"
   ]
  },
  {
   "cell_type": "code",
   "execution_count": 40,
   "id": "7d79c490",
   "metadata": {},
   "outputs": [
    {
     "data": {
      "text/html": [
       "<div>\n",
       "<style scoped>\n",
       "    .dataframe tbody tr th:only-of-type {\n",
       "        vertical-align: middle;\n",
       "    }\n",
       "\n",
       "    .dataframe tbody tr th {\n",
       "        vertical-align: top;\n",
       "    }\n",
       "\n",
       "    .dataframe thead th {\n",
       "        text-align: right;\n",
       "    }\n",
       "</style>\n",
       "<table border=\"1\" class=\"dataframe\">\n",
       "  <thead>\n",
       "    <tr style=\"text-align: right;\">\n",
       "      <th></th>\n",
       "      <th>Unnamed: 0</th>\n",
       "      <th>Start Time</th>\n",
       "      <th>End Time</th>\n",
       "      <th>Trip Duration</th>\n",
       "      <th>Start Station</th>\n",
       "      <th>End Station</th>\n",
       "      <th>User Type</th>\n",
       "      <th>Gender</th>\n",
       "      <th>Birth Year</th>\n",
       "      <th>month</th>\n",
       "      <th>day_of_week</th>\n",
       "    </tr>\n",
       "  </thead>\n",
       "  <tbody>\n",
       "    <tr>\n",
       "      <th>2</th>\n",
       "      <td>9031</td>\n",
       "      <td>2017-01-04 08:27:49</td>\n",
       "      <td>2017-01-04 08:34:45</td>\n",
       "      <td>416</td>\n",
       "      <td>May St &amp; Taylor St</td>\n",
       "      <td>Wood St &amp; Taylor St</td>\n",
       "      <td>Subscriber</td>\n",
       "      <td>Male</td>\n",
       "      <td>1981.0</td>\n",
       "      <td>1</td>\n",
       "      <td>Wednesday</td>\n",
       "    </tr>\n",
       "    <tr>\n",
       "      <th>4</th>\n",
       "      <td>45207</td>\n",
       "      <td>2017-01-17 14:53:07</td>\n",
       "      <td>2017-01-17 15:02:01</td>\n",
       "      <td>534</td>\n",
       "      <td>Clark St &amp; Randolph St</td>\n",
       "      <td>Desplaines St &amp; Jackson Blvd</td>\n",
       "      <td>Subscriber</td>\n",
       "      <td>Male</td>\n",
       "      <td>1975.0</td>\n",
       "      <td>1</td>\n",
       "      <td>Tuesday</td>\n",
       "    </tr>\n",
       "    <tr>\n",
       "      <th>7</th>\n",
       "      <td>65924</td>\n",
       "      <td>2017-01-21 14:28:38</td>\n",
       "      <td>2017-01-21 14:40:41</td>\n",
       "      <td>723</td>\n",
       "      <td>Larrabee St &amp; Kingsbury St</td>\n",
       "      <td>Larrabee St &amp; Armitage Ave</td>\n",
       "      <td>Customer</td>\n",
       "      <td>NaN</td>\n",
       "      <td>NaN</td>\n",
       "      <td>1</td>\n",
       "      <td>Saturday</td>\n",
       "    </tr>\n",
       "    <tr>\n",
       "      <th>11</th>\n",
       "      <td>71678</td>\n",
       "      <td>2017-01-22 15:15:45</td>\n",
       "      <td>2017-01-22 15:31:02</td>\n",
       "      <td>917</td>\n",
       "      <td>Southport Ave &amp; Wellington Ave</td>\n",
       "      <td>Clark St &amp; Schiller St</td>\n",
       "      <td>Subscriber</td>\n",
       "      <td>Male</td>\n",
       "      <td>1964.0</td>\n",
       "      <td>1</td>\n",
       "      <td>Sunday</td>\n",
       "    </tr>\n",
       "    <tr>\n",
       "      <th>12</th>\n",
       "      <td>19061</td>\n",
       "      <td>2017-01-08 16:03:00</td>\n",
       "      <td>2017-01-08 16:07:37</td>\n",
       "      <td>277</td>\n",
       "      <td>Green St &amp; Madison St</td>\n",
       "      <td>Ada St &amp; Washington Blvd</td>\n",
       "      <td>Subscriber</td>\n",
       "      <td>Male</td>\n",
       "      <td>1961.0</td>\n",
       "      <td>1</td>\n",
       "      <td>Sunday</td>\n",
       "    </tr>\n",
       "  </tbody>\n",
       "</table>\n",
       "</div>"
      ],
      "text/plain": [
       "    Unnamed: 0          Start Time             End Time  Trip Duration  \\\n",
       "2         9031 2017-01-04 08:27:49  2017-01-04 08:34:45            416   \n",
       "4        45207 2017-01-17 14:53:07  2017-01-17 15:02:01            534   \n",
       "7        65924 2017-01-21 14:28:38  2017-01-21 14:40:41            723   \n",
       "11       71678 2017-01-22 15:15:45  2017-01-22 15:31:02            917   \n",
       "12       19061 2017-01-08 16:03:00  2017-01-08 16:07:37            277   \n",
       "\n",
       "                     Start Station                   End Station   User Type  \\\n",
       "2               May St & Taylor St           Wood St & Taylor St  Subscriber   \n",
       "4           Clark St & Randolph St  Desplaines St & Jackson Blvd  Subscriber   \n",
       "7       Larrabee St & Kingsbury St    Larrabee St & Armitage Ave    Customer   \n",
       "11  Southport Ave & Wellington Ave        Clark St & Schiller St  Subscriber   \n",
       "12           Green St & Madison St      Ada St & Washington Blvd  Subscriber   \n",
       "\n",
       "   Gender  Birth Year  month day_of_week  \n",
       "2    Male      1981.0      1   Wednesday  \n",
       "4    Male      1975.0      1     Tuesday  \n",
       "7     NaN         NaN      1    Saturday  \n",
       "11   Male      1964.0      1      Sunday  \n",
       "12   Male      1961.0      1      Sunday  "
      ]
     },
     "execution_count": 40,
     "metadata": {},
     "output_type": "execute_result"
    }
   ],
   "source": [
    "df.head()"
   ]
  },
  {
   "cell_type": "code",
   "execution_count": 41,
   "id": "79c933c1",
   "metadata": {},
   "outputs": [
    {
     "name": "stdout",
     "output_type": "stream",
     "text": [
      "\n",
      "Calculating User Stats...\n",
      "\n",
      "Subscriber: 20794\n",
      "Customer: 1015\n",
      "********************\n",
      "Male: 16745\n",
      "Female: 4059\n",
      "********************\n",
      "The most earliest year of birth: 1899\n",
      "The most recent year of birth: 2000\n",
      "The most common year of birth 1989\n",
      "\n",
      "This took 0.017979860305786133 seconds.\n",
      "----------------------------------------\n"
     ]
    }
   ],
   "source": [
    "\"\"\"Displays statistics on bikeshare users.\"\"\"\n",
    "\n",
    "print('\\nCalculating User Stats...\\n')\n",
    "start_time = time.time()\n",
    "\n",
    "# Display counts of user types\n",
    "u_types = df[\"User Type\"].value_counts().index.tolist()\n",
    "\n",
    "for x in u_types:\n",
    "    value = df[\"User Type\"].value_counts()[u_types.index(x)]\n",
    "    print(x + \":\", value)\n",
    "print('*'*20)\n",
    "\n",
    "# Display counts of gender\n",
    "g_types = df[\"Gender\"].value_counts().index.tolist()\n",
    "\n",
    "for x in g_types:\n",
    "    value = df[\"Gender\"].value_counts()[g_types.index(x)]\n",
    "    print(x + \":\", value)\n",
    "print('*'*20)\n",
    "\n",
    "# Display earliest, most recent, and most common year of birth\n",
    "print(\"The most earliest year of birth:\", int(df[\"Birth Year\"].min()))\n",
    "print(\"The most recent year of birth:\", int(df[\"Birth Year\"].max()))\n",
    "print(\"The most common year of birth\", int(df[\"Birth Year\"].mode()[0]))\n",
    "\n",
    "print(\"\\nThis took %s seconds.\" % (time.time() - start_time))\n",
    "print('-'*40)"
   ]
  },
  {
   "cell_type": "code",
   "execution_count": 42,
   "id": "2305b19f",
   "metadata": {
    "scrolled": true
   },
   "outputs": [
    {
     "name": "stdout",
     "output_type": "stream",
     "text": [
      "2000.0\n",
      "1899.0\n",
      "1989.0\n"
     ]
    }
   ],
   "source": [
    "print(df[\"Birth Year\"].max())\n",
    "print(df[\"Birth Year\"].min())\n",
    "print(df[\"Birth Year\"].mode()[0])"
   ]
  },
  {
   "cell_type": "code",
   "execution_count": 43,
   "id": "9d65cb9b",
   "metadata": {},
   "outputs": [
    {
     "name": "stdout",
     "output_type": "stream",
     "text": [
      "0    1989.0\n",
      "dtype: float64\n"
     ]
    }
   ],
   "source": [
    "print(df[\"Birth Year\"].mode())"
   ]
  },
  {
   "cell_type": "code",
   "execution_count": 44,
   "id": "ed8b9211",
   "metadata": {},
   "outputs": [
    {
     "name": "stdout",
     "output_type": "stream",
     "text": [
      "Would you like to see 5 lines of raw data?\n",
      "no\n"
     ]
    }
   ],
   "source": [
    "start = 0\n",
    "   \n",
    "while True:\n",
    "    if start == 0:\n",
    "        show = input(\"Would you like to see 5 lines of raw data?\\n\").strip().lower()\n",
    "    else:\n",
    "        show = input(\"Would you like to see another 5 lines of raw data?\\n\").strip().lower()\n",
    "    if show == \"yes\":\n",
    "        end = start + 5 \n",
    "        print(df[start:end])\n",
    "        start = end\n",
    "    elif show == \"no\":\n",
    "        break"
   ]
  },
  {
   "cell_type": "code",
   "execution_count": 45,
   "id": "e3ab3164",
   "metadata": {},
   "outputs": [
    {
     "data": {
      "text/plain": [
       "29"
      ]
     },
     "execution_count": 45,
     "metadata": {},
     "output_type": "execute_result"
    }
   ],
   "source": [
    "comb = df[[\"Start Station\", \"End Station\"]].value_counts()[0]\n",
    "comb"
   ]
  },
  {
   "cell_type": "code",
   "execution_count": 58,
   "id": "d64ad960",
   "metadata": {},
   "outputs": [
    {
     "data": {
      "text/plain": [
       "Start Station    21809\n",
       "End Station      21809\n",
       "dtype: int64"
      ]
     },
     "execution_count": 58,
     "metadata": {},
     "output_type": "execute_result"
    }
   ],
   "source": [
    "comb = df[[\"Start Station\", \"End Station\"]].count()\n",
    "comb"
   ]
  }
 ],
 "metadata": {
  "kernelspec": {
   "display_name": "Python 3 (ipykernel)",
   "language": "python",
   "name": "python3"
  },
  "language_info": {
   "codemirror_mode": {
    "name": "ipython",
    "version": 3
   },
   "file_extension": ".py",
   "mimetype": "text/x-python",
   "name": "python",
   "nbconvert_exporter": "python",
   "pygments_lexer": "ipython3",
   "version": "3.8.8"
  }
 },
 "nbformat": 4,
 "nbformat_minor": 5
}
